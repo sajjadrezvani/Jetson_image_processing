{
 "cells": [
  {
   "cell_type": "markdown",
   "id": "ccfc1b84",
   "metadata": {
    "papermill": {
     "duration": 0.01931,
     "end_time": "2021-12-18T04:28:36.844710",
     "exception": false,
     "start_time": "2021-12-18T04:28:36.825400",
     "status": "completed"
    },
    "tags": []
   },
   "source": [
    "# Trafic Sign Vision Transformer\n",
    "This notebook referred to the following notebook.<br/>\n",
    "https://www.kaggle.com/szuzhangzhi/vision-transformer-vit-cuda-as-usual"
   ]
  },
  {
   "cell_type": "code",
   "execution_count": 1,
   "id": "827d55b0",
   "metadata": {
    "execution": {
     "iopub.execute_input": "2021-12-18T04:28:36.886407Z",
     "iopub.status.busy": "2021-12-18T04:28:36.884927Z",
     "iopub.status.idle": "2021-12-18T04:28:46.188330Z",
     "shell.execute_reply": "2021-12-18T04:28:46.187359Z",
     "shell.execute_reply.started": "2021-12-17T03:39:20.498466Z"
    },
    "papermill": {
     "duration": 9.325362,
     "end_time": "2021-12-18T04:28:46.188510",
     "exception": false,
     "start_time": "2021-12-18T04:28:36.863148",
     "status": "completed"
    },
    "tags": []
   },
   "outputs": [
    {
     "name": "stdout",
     "output_type": "stream",
     "text": [
      "Requirement already satisfied: vision_transformer_pytorch in c:\\users\\acer\\appdata\\local\\packages\\pythonsoftwarefoundation.python.3.10_qbz5n2kfra8p0\\localcache\\local-packages\\python310\\site-packages (1.0.3)\n",
      "Requirement already satisfied: torch>=1.5.0 in c:\\users\\acer\\appdata\\local\\packages\\pythonsoftwarefoundation.python.3.10_qbz5n2kfra8p0\\localcache\\local-packages\\python310\\site-packages (from vision_transformer_pytorch) (2.1.1)\n",
      "Requirement already satisfied: numpy in c:\\users\\acer\\appdata\\local\\packages\\pythonsoftwarefoundation.python.3.10_qbz5n2kfra8p0\\localcache\\local-packages\\python310\\site-packages (from vision_transformer_pytorch) (1.24.2)\n",
      "Requirement already satisfied: filelock in c:\\users\\acer\\appdata\\local\\packages\\pythonsoftwarefoundation.python.3.10_qbz5n2kfra8p0\\localcache\\local-packages\\python310\\site-packages (from torch>=1.5.0->vision_transformer_pytorch) (3.12.2)\n",
      "Requirement already satisfied: typing-extensions in c:\\users\\acer\\appdata\\local\\packages\\pythonsoftwarefoundation.python.3.10_qbz5n2kfra8p0\\localcache\\local-packages\\python310\\site-packages (from torch>=1.5.0->vision_transformer_pytorch) (4.6.3)\n",
      "Requirement already satisfied: sympy in c:\\users\\acer\\appdata\\local\\packages\\pythonsoftwarefoundation.python.3.10_qbz5n2kfra8p0\\localcache\\local-packages\\python310\\site-packages (from torch>=1.5.0->vision_transformer_pytorch) (1.12)\n",
      "Requirement already satisfied: networkx in c:\\users\\acer\\appdata\\local\\packages\\pythonsoftwarefoundation.python.3.10_qbz5n2kfra8p0\\localcache\\local-packages\\python310\\site-packages (from torch>=1.5.0->vision_transformer_pytorch) (3.2.1)\n",
      "Requirement already satisfied: jinja2 in c:\\users\\acer\\appdata\\local\\packages\\pythonsoftwarefoundation.python.3.10_qbz5n2kfra8p0\\localcache\\local-packages\\python310\\site-packages (from torch>=1.5.0->vision_transformer_pytorch) (3.1.2)\n",
      "Requirement already satisfied: fsspec in c:\\users\\acer\\appdata\\local\\packages\\pythonsoftwarefoundation.python.3.10_qbz5n2kfra8p0\\localcache\\local-packages\\python310\\site-packages (from torch>=1.5.0->vision_transformer_pytorch) (2023.6.0)\n",
      "Requirement already satisfied: MarkupSafe>=2.0 in c:\\users\\acer\\appdata\\local\\packages\\pythonsoftwarefoundation.python.3.10_qbz5n2kfra8p0\\localcache\\local-packages\\python310\\site-packages (from jinja2->torch>=1.5.0->vision_transformer_pytorch) (2.1.2)\n",
      "Requirement already satisfied: mpmath>=0.19 in c:\\users\\acer\\appdata\\local\\packages\\pythonsoftwarefoundation.python.3.10_qbz5n2kfra8p0\\localcache\\local-packages\\python310\\site-packages (from sympy->torch>=1.5.0->vision_transformer_pytorch) (1.3.0)\n"
     ]
    },
    {
     "name": "stderr",
     "output_type": "stream",
     "text": [
      "WARNING: Ignoring invalid distribution -atplotlib (c:\\users\\acer\\appdata\\local\\packages\\pythonsoftwarefoundation.python.3.10_qbz5n2kfra8p0\\localcache\\local-packages\\python310\\site-packages)\n",
      "WARNING: Ignoring invalid distribution -atplotlib (c:\\users\\acer\\appdata\\local\\packages\\pythonsoftwarefoundation.python.3.10_qbz5n2kfra8p0\\localcache\\local-packages\\python310\\site-packages)\n"
     ]
    }
   ],
   "source": [
    "!pip install vision_transformer_pytorch"
   ]
  },
  {
   "cell_type": "code",
   "execution_count": 2,
   "id": "0df585a6",
   "metadata": {
    "execution": {
     "iopub.execute_input": "2021-12-18T04:28:46.232808Z",
     "iopub.status.busy": "2021-12-18T04:28:46.232091Z",
     "iopub.status.idle": "2021-12-18T04:28:46.234699Z",
     "shell.execute_reply": "2021-12-18T04:28:46.234265Z",
     "shell.execute_reply.started": "2021-12-17T03:39:27.752235Z"
    },
    "papermill": {
     "duration": 0.025924,
     "end_time": "2021-12-18T04:28:46.234808",
     "exception": false,
     "start_time": "2021-12-18T04:28:46.208884",
     "status": "completed"
    },
    "tags": []
   },
   "outputs": [],
   "source": [
    "import sys\n",
    "package_path = '../input/vision-transformer-pytorch/VisionTransformer-Pytorch'\n",
    "sys.path.append(package_path)"
   ]
  },
  {
   "cell_type": "code",
   "execution_count": 3,
   "id": "f8831ba2",
   "metadata": {},
   "outputs": [
    {
     "name": "stderr",
     "output_type": "stream",
     "text": [
      "ERROR: unknown command \"insta\" - maybe you meant \"install\"\n",
      "\n"
     ]
    }
   ],
   "source": [
    "!pip insta"
   ]
  },
  {
   "cell_type": "code",
   "execution_count": 4,
   "id": "7d81160e",
   "metadata": {
    "execution": {
     "iopub.execute_input": "2021-12-18T04:28:46.281939Z",
     "iopub.status.busy": "2021-12-18T04:28:46.281045Z",
     "iopub.status.idle": "2021-12-18T04:28:50.107778Z",
     "shell.execute_reply": "2021-12-18T04:28:50.107041Z",
     "shell.execute_reply.started": "2021-12-17T03:39:27.759185Z"
    },
    "papermill": {
     "duration": 3.854112,
     "end_time": "2021-12-18T04:28:50.107965",
     "exception": false,
     "start_time": "2021-12-18T04:28:46.253853",
     "status": "completed"
    },
    "tags": []
   },
   "outputs": [],
   "source": [
    "import os\n",
    "import pandas as pd\n",
    "\n",
    "import time\n",
    "import datetime\n",
    "import copy\n",
    "import matplotlib.pyplot as plt\n",
    "import json\n",
    "import seaborn as sns\n",
    "import cv2\n",
    "import albumentations as albu\n",
    "import numpy as np\n",
    "import torch\n",
    "import torch.nn as nn\n",
    "import torchvision.models as models\n",
    "import torch.optim as optim\n",
    "from torch.utils.data import Dataset, DataLoader\n",
    "from torch.optim.lr_scheduler import ReduceLROnPlateau\n",
    "from sklearn.metrics import accuracy_score\n",
    "from sklearn.model_selection import StratifiedKFold, GroupKFold, KFold, train_test_split\n",
    "\n",
    "\n",
    "# ALBUMENTATIONS\n",
    "import albumentations as albu\n",
    "\n",
    "from albumentations import (\n",
    "    HorizontalFlip, VerticalFlip, IAAPerspective, ShiftScaleRotate, CLAHE, RandomRotate90,\n",
    "    Transpose, ShiftScaleRotate, Blur, OpticalDistortion, GridDistortion, HueSaturationValue,\n",
    "    IAAAdditiveGaussianNoise, GaussNoise, MotionBlur, MedianBlur, IAAPiecewiseAffine, RandomResizedCrop,\n",
    "    IAASharpen, IAAEmboss, RandomBrightnessContrast, Flip, OneOf, Compose, Normalize, Cutout, CoarseDropout, ShiftScaleRotate, CenterCrop, Resize\n",
    ")\n",
    "    \n",
    "from albumentations.pytorch import ToTensorV2\n",
    "\n",
    "# ADAMP\n",
    "# from adamp import AdamP"
   ]
  },
  {
   "cell_type": "code",
   "execution_count": 5,
   "id": "dbd993ab",
   "metadata": {
    "execution": {
     "iopub.execute_input": "2021-12-18T04:28:50.197900Z",
     "iopub.status.busy": "2021-12-18T04:28:50.197047Z",
     "iopub.status.idle": "2021-12-18T04:28:50.199277Z",
     "shell.execute_reply": "2021-12-18T04:28:50.198616Z",
     "shell.execute_reply.started": "2021-12-17T03:39:27.774271Z"
    },
    "papermill": {
     "duration": 0.041546,
     "end_time": "2021-12-18T04:28:50.199420",
     "exception": false,
     "start_time": "2021-12-18T04:28:50.157874",
     "status": "completed"
    },
    "tags": []
   },
   "outputs": [],
   "source": [
    "BASE_DIR=\"./gtsrb-german-traffic-sign/\"\n",
    "TRAIN_IMAGES_DIR = os.path.join(BASE_DIR,'Test')"
   ]
  },
  {
   "cell_type": "code",
   "execution_count": 6,
   "id": "8c39d29c",
   "metadata": {
    "execution": {
     "iopub.execute_input": "2021-12-18T04:28:50.266822Z",
     "iopub.status.busy": "2021-12-18T04:28:50.266060Z",
     "iopub.status.idle": "2021-12-18T04:28:50.329491Z",
     "shell.execute_reply": "2021-12-18T04:28:50.330447Z",
     "shell.execute_reply.started": "2021-12-17T03:39:27.789603Z"
    },
    "papermill": {
     "duration": 0.100019,
     "end_time": "2021-12-18T04:28:50.330621",
     "exception": false,
     "start_time": "2021-12-18T04:28:50.230602",
     "status": "completed"
    },
    "tags": []
   },
   "outputs": [
    {
     "data": {
      "text/html": [
       "<div>\n",
       "<style scoped>\n",
       "    .dataframe tbody tr th:only-of-type {\n",
       "        vertical-align: middle;\n",
       "    }\n",
       "\n",
       "    .dataframe tbody tr th {\n",
       "        vertical-align: top;\n",
       "    }\n",
       "\n",
       "    .dataframe thead th {\n",
       "        text-align: right;\n",
       "    }\n",
       "</style>\n",
       "<table border=\"1\" class=\"dataframe\">\n",
       "  <thead>\n",
       "    <tr style=\"text-align: right;\">\n",
       "      <th></th>\n",
       "      <th>Width</th>\n",
       "      <th>Height</th>\n",
       "      <th>Roi.X1</th>\n",
       "      <th>Roi.Y1</th>\n",
       "      <th>Roi.X2</th>\n",
       "      <th>Roi.Y2</th>\n",
       "      <th>ClassId</th>\n",
       "      <th>Path</th>\n",
       "    </tr>\n",
       "  </thead>\n",
       "  <tbody>\n",
       "    <tr>\n",
       "      <th>0</th>\n",
       "      <td>53</td>\n",
       "      <td>54</td>\n",
       "      <td>6</td>\n",
       "      <td>5</td>\n",
       "      <td>48</td>\n",
       "      <td>49</td>\n",
       "      <td>16</td>\n",
       "      <td>Test/00000.png</td>\n",
       "    </tr>\n",
       "    <tr>\n",
       "      <th>1</th>\n",
       "      <td>42</td>\n",
       "      <td>45</td>\n",
       "      <td>5</td>\n",
       "      <td>5</td>\n",
       "      <td>36</td>\n",
       "      <td>40</td>\n",
       "      <td>1</td>\n",
       "      <td>Test/00001.png</td>\n",
       "    </tr>\n",
       "    <tr>\n",
       "      <th>2</th>\n",
       "      <td>48</td>\n",
       "      <td>52</td>\n",
       "      <td>6</td>\n",
       "      <td>6</td>\n",
       "      <td>43</td>\n",
       "      <td>47</td>\n",
       "      <td>38</td>\n",
       "      <td>Test/00002.png</td>\n",
       "    </tr>\n",
       "    <tr>\n",
       "      <th>3</th>\n",
       "      <td>27</td>\n",
       "      <td>29</td>\n",
       "      <td>5</td>\n",
       "      <td>5</td>\n",
       "      <td>22</td>\n",
       "      <td>24</td>\n",
       "      <td>33</td>\n",
       "      <td>Test/00003.png</td>\n",
       "    </tr>\n",
       "    <tr>\n",
       "      <th>4</th>\n",
       "      <td>60</td>\n",
       "      <td>57</td>\n",
       "      <td>5</td>\n",
       "      <td>5</td>\n",
       "      <td>55</td>\n",
       "      <td>52</td>\n",
       "      <td>11</td>\n",
       "      <td>Test/00004.png</td>\n",
       "    </tr>\n",
       "  </tbody>\n",
       "</table>\n",
       "</div>"
      ],
      "text/plain": [
       "   Width  Height  Roi.X1  Roi.Y1  Roi.X2  Roi.Y2  ClassId            Path\n",
       "0     53      54       6       5      48      49       16  Test/00000.png\n",
       "1     42      45       5       5      36      40        1  Test/00001.png\n",
       "2     48      52       6       6      43      47       38  Test/00002.png\n",
       "3     27      29       5       5      22      24       33  Test/00003.png\n",
       "4     60      57       5       5      55      52       11  Test/00004.png"
      ]
     },
     "execution_count": 6,
     "metadata": {},
     "output_type": "execute_result"
    }
   ],
   "source": [
    "train_df = pd.read_csv(os.path.join(BASE_DIR, 'Test.csv'))\n",
    "train_df.head()"
   ]
  },
  {
   "cell_type": "markdown",
   "id": "6bd82faf",
   "metadata": {
    "papermill": {
     "duration": 0.031682,
     "end_time": "2021-12-18T04:28:50.394607",
     "exception": false,
     "start_time": "2021-12-18T04:28:50.362925",
     "status": "completed"
    },
    "tags": []
   },
   "source": [
    "## Target: ClassId"
   ]
  },
  {
   "cell_type": "code",
   "execution_count": 7,
   "id": "bf44cc76",
   "metadata": {
    "execution": {
     "iopub.execute_input": "2021-12-18T04:28:50.465850Z",
     "iopub.status.busy": "2021-12-18T04:28:50.465073Z",
     "iopub.status.idle": "2021-12-18T04:28:50.470534Z",
     "shell.execute_reply": "2021-12-18T04:28:50.471101Z",
     "shell.execute_reply.started": "2021-12-17T03:39:27.827961Z"
    },
    "papermill": {
     "duration": 0.044453,
     "end_time": "2021-12-18T04:28:50.471293",
     "exception": false,
     "start_time": "2021-12-18T04:28:50.426840",
     "status": "completed"
    },
    "tags": []
   },
   "outputs": [],
   "source": [
    "class_name = train_df['ClassId'].value_counts().index       #target name\n",
    "class_count = train_df['ClassId'].value_counts().values"
   ]
  },
  {
   "cell_type": "code",
   "execution_count": 8,
   "id": "44680a26",
   "metadata": {
    "execution": {
     "iopub.execute_input": "2021-12-18T04:28:50.537090Z",
     "iopub.status.busy": "2021-12-18T04:28:50.535983Z",
     "iopub.status.idle": "2021-12-18T04:28:50.539009Z",
     "shell.execute_reply": "2021-12-18T04:28:50.539442Z",
     "shell.execute_reply.started": "2021-12-17T03:39:27.836603Z"
    },
    "papermill": {
     "duration": 0.036879,
     "end_time": "2021-12-18T04:28:50.539564",
     "exception": false,
     "start_time": "2021-12-18T04:28:50.502685",
     "status": "completed"
    },
    "tags": []
   },
   "outputs": [
    {
     "data": {
      "text/plain": [
       "2     750\n",
       "1     720\n",
       "13    720\n",
       "38    690\n",
       "12    690\n",
       "4     660\n",
       "10    660\n",
       "5     630\n",
       "9     480\n",
       "25    480\n",
       "3     450\n",
       "8     450\n",
       "7     450\n",
       "11    420\n",
       "35    390\n",
       "18    390\n",
       "17    360\n",
       "31    270\n",
       "14    270\n",
       "15    210\n",
       "33    210\n",
       "26    180\n",
       "30    150\n",
       "16    150\n",
       "28    150\n",
       "6     150\n",
       "23    150\n",
       "22    120\n",
       "36    120\n",
       "34    120\n",
       "24     90\n",
       "29     90\n",
       "20     90\n",
       "40     90\n",
       "21     90\n",
       "39     90\n",
       "42     90\n",
       "32     60\n",
       "27     60\n",
       "41     60\n",
       "19     60\n",
       "0      60\n",
       "37     60\n",
       "Name: ClassId, dtype: int64"
      ]
     },
     "execution_count": 8,
     "metadata": {},
     "output_type": "execute_result"
    }
   ],
   "source": [
    "train_df.ClassId.value_counts()       #target name"
   ]
  },
  {
   "cell_type": "code",
   "execution_count": 9,
   "id": "f983a656",
   "metadata": {
    "execution": {
     "iopub.execute_input": "2021-12-18T04:28:50.610840Z",
     "iopub.status.busy": "2021-12-18T04:28:50.585239Z",
     "iopub.status.idle": "2021-12-18T04:28:51.081545Z",
     "shell.execute_reply": "2021-12-18T04:28:51.080041Z",
     "shell.execute_reply.started": "2021-12-17T03:39:27.848731Z"
    },
    "papermill": {
     "duration": 0.522052,
     "end_time": "2021-12-18T04:28:51.081679",
     "exception": false,
     "start_time": "2021-12-18T04:28:50.559627",
     "status": "completed"
    },
    "tags": []
   },
   "outputs": [
    {
     "data": {
      "image/png": "[encoded data removed]",
      "text/plain": [
       "<Figure size 1600x600 with 1 Axes>"
      ]
     },
     "metadata": {},
     "output_type": "display_data"
    }
   ],
   "source": [
    "# Counting target values.\n",
    "\n",
    "targ_cts=train_df.ClassId.value_counts()    #target name\n",
    "fig = plt.figure(figsize=(16,6))\n",
    "sns.barplot(x=targ_cts.sort_values(ascending=False).index, \n",
    "            y=targ_cts.sort_values(ascending=False).values, \n",
    "            palette='summer')\n",
    "plt.title('Target Distribution')\n",
    "plt.show()"
   ]
  },
  {
   "cell_type": "markdown",
   "id": "2ade152a",
   "metadata": {
    "execution": {
     "iopub.status.busy": "2021-12-16T15:07:28.223274Z",
     "iopub.status.idle": "2021-12-16T15:07:28.224054Z",
     "shell.execute_reply": "2021-12-16T15:07:28.223759Z",
     "shell.execute_reply.started": "2021-12-16T15:07:28.223717Z"
    },
    "papermill": {
     "duration": 0.020436,
     "end_time": "2021-12-18T04:28:51.123958",
     "exception": false,
     "start_time": "2021-12-18T04:28:51.103522",
     "status": "completed"
    },
    "tags": []
   },
   "source": [
    "from sklearn.preprocessing import LabelEncoder\n",
    "le = LabelEncoder()\n",
    "\n",
    "le.fit(train_df.pollen_carrying)\n",
    "train_df['pollen_carrying'] = le.transform(train_df.pollen_carrying)"
   ]
  },
  {
   "cell_type": "code",
   "execution_count": 10,
   "id": "31167419",
   "metadata": {
    "execution": {
     "iopub.execute_input": "2021-12-18T04:28:51.177167Z",
     "iopub.status.busy": "2021-12-18T04:28:51.172654Z",
     "iopub.status.idle": "2021-12-18T04:28:51.179412Z",
     "shell.execute_reply": "2021-12-18T04:28:51.178986Z",
     "shell.execute_reply.started": "2021-12-17T03:39:28.364119Z"
    },
    "papermill": {
     "duration": 0.034591,
     "end_time": "2021-12-18T04:28:51.179519",
     "exception": false,
     "start_time": "2021-12-18T04:28:51.144928",
     "status": "completed"
    },
    "tags": []
   },
   "outputs": [],
   "source": [
    "def visualize_images(image_ids, labels):\n",
    "    plt.figure(figsize=(16, 12))\n",
    "    \n",
    "    for idx, (image_id, label) in enumerate(zip(image_ids, labels)):\n",
    "        plt.subplot(3, 3, idx+1)\n",
    "        \n",
    "        image = cv2.imread(os.path.join(TRAIN_IMAGES_DIR, image_id))\n",
    "        image = cv2.cvtColor(image, cv2.COLOR_BGR2RGB)\n",
    "        \n",
    "        plt.imshow(image)\n",
    "        plt.title(f\"Class: {label}\", fontsize=12)\n",
    "        plt.axis(\"off\")\n",
    "        \n",
    "    plt.show()\n",
    "    \n",
    "\n",
    "def plot_augmentation(image_id, transform):\n",
    "    plt.figure(figsize=(16, 4))\n",
    "    \n",
    "    img = cv2.imread(os.path.join(TRAIN_IAMGES_DIR, image_id))\n",
    "    img = cv2.cvtColor(img, cv2.COLOR_BGR2RGB)\n",
    "    \n",
    "    plt.subplot(1, 3, 1)\n",
    "    plt.imshow(img)\n",
    "    plt.axis('off')\n",
    "    \n",
    "    plt.subplot(1, 3, 2)\n",
    "    x = transform(image=img)['image']\n",
    "    plt.imshow(x)\n",
    "    plt.axis('off')\n",
    "    \n",
    "    plt.subplot(1, 3, 3)\n",
    "    x = transform(image=img)['image']\n",
    "    plt.imshow(x)\n",
    "    \n",
    "def visualize(images, transform):\n",
    "    '''\n",
    "    Plot images and their transformations\n",
    "    '''\n",
    "    fig = plt.figure(figsize=(32, 16))\n",
    "    \n",
    "    for i, im in enumerate(images):\n",
    "        ax = fig.add_subplot(2, 5, i+1, xticks=[], yticks=[])\n",
    "        plt.imshow(im)\n",
    "        \n",
    "    for i, im in enumerate(images):\n",
    "        ax = fig.add_subplot(2, 5, i+6, xticks=[], yticks=[])\n",
    "        plt.imshow(transform(image=im)['image'])"
   ]
  },
  {
   "cell_type": "code",
   "execution_count": 11,
   "id": "99674cc9",
   "metadata": {
    "execution": {
     "iopub.execute_input": "2021-12-18T04:28:51.224814Z",
     "iopub.status.busy": "2021-12-18T04:28:51.224227Z",
     "iopub.status.idle": "2021-12-18T04:28:51.433442Z",
     "shell.execute_reply": "2021-12-18T04:28:51.432926Z",
     "shell.execute_reply.started": "2021-12-17T04:45:13.527387Z"
    },
    "papermill": {
     "duration": 0.233468,
     "end_time": "2021-12-18T04:28:51.433582",
     "exception": false,
     "start_time": "2021-12-18T04:28:51.200114",
     "status": "completed"
    },
    "tags": []
   },
   "outputs": [
    {
     "name": "stdout",
     "output_type": "stream",
     "text": [
      "<class 'numpy.ndarray'>\n",
      "True\n"
     ]
    },
    {
     "data": {
      "text/plain": [
       "<matplotlib.image.AxesImage at 0x14b98ac5780>"
      ]
     },
     "execution_count": 11,
     "metadata": {},
     "output_type": "execute_result"
    },
    {
     "data": {
      "image/png": "[encoded data removed]",
      "text/plain": [
       "<Figure size 640x480 with 1 Axes>"
      ]
     },
     "metadata": {},
     "output_type": "display_data"
    }
   ],
   "source": [
    "img0=cv2.imread('./gtsrb-german-traffic-sign/Test/00000.png')\n",
    "print(type(img0))\n",
    "print(type(img0)==np.ndarray)\n",
    "plt.imshow(img0)"
   ]
  },
  {
   "cell_type": "code",
   "execution_count": 12,
   "id": "fdbdd505",
   "metadata": {
    "execution": {
     "iopub.execute_input": "2021-12-18T04:28:51.489344Z",
     "iopub.status.busy": "2021-12-18T04:28:51.487795Z",
     "iopub.status.idle": "2021-12-18T04:28:51.489933Z",
     "shell.execute_reply": "2021-12-18T04:28:51.490365Z",
     "shell.execute_reply.started": "2021-12-17T03:39:28.380235Z"
    },
    "papermill": {
     "duration": 0.033176,
     "end_time": "2021-12-18T04:28:51.490496",
     "exception": false,
     "start_time": "2021-12-18T04:28:51.457320",
     "status": "completed"
    },
    "tags": []
   },
   "outputs": [],
   "source": [
    "# CUSTOM DATASET CLASS\n",
    "class PlantDataset(Dataset):\n",
    "    def __init__(\n",
    "        self, df:pd.DataFrame, imfolder:str, train:bool=True, transforms=None\n",
    "    ):\n",
    "        self.df = df\n",
    "        self.imfolder = imfolder\n",
    "        self.train = train\n",
    "        self.transforms = transforms\n",
    "        \n",
    "    def __len__(self):\n",
    "        return len(self.df)\n",
    "    \n",
    "    def __getitem__(self, index):\n",
    "        im_path = os.path.join(self.imfolder, self.df.iloc[index]['Path'])\n",
    "        print(im_path)  \n",
    "        im = cv2.imread(im_path, cv2.IMREAD_COLOR)\n",
    "        print(type(im))       \n",
    "        if type(im)==np.ndarray:\n",
    "            im = cv2.cvtColor(im, cv2.COLOR_BGR2RGB)\n",
    "\n",
    "            if (self.transforms):\n",
    "                '''\n",
    "                When AlbumentationCompose, a dictionary with key 'image' is created\n",
    "                '''\n",
    "                im = self.transforms(image=im)['image']\n",
    "\n",
    "            if (self.train):\n",
    "                label = self.df.iloc[index]['ClassId']    #target name\n",
    "                return im, label\n",
    "            else:\n",
    "                return im"
   ]
  },
  {
   "cell_type": "code",
   "execution_count": 13,
   "id": "310a52bb",
   "metadata": {
    "execution": {
     "iopub.execute_input": "2021-12-18T04:28:51.541416Z",
     "iopub.status.busy": "2021-12-18T04:28:51.540762Z",
     "iopub.status.idle": "2021-12-18T04:28:51.546607Z",
     "shell.execute_reply": "2021-12-18T04:28:51.545982Z",
     "shell.execute_reply.started": "2021-12-17T03:39:28.396231Z"
    },
    "papermill": {
     "duration": 0.034214,
     "end_time": "2021-12-18T04:28:51.546749",
     "exception": false,
     "start_time": "2021-12-18T04:28:51.512535",
     "status": "completed"
    },
    "tags": []
   },
   "outputs": [
    {
     "name": "stderr",
     "output_type": "stream",
     "text": [
      "C:\\Users\\ACER\\AppData\\Local\\Packages\\PythonSoftwareFoundation.Python.3.10_qbz5n2kfra8p0\\LocalCache\\local-packages\\Python310\\site-packages\\albumentations\\augmentations\\dropout\\cutout.py:49: FutureWarning: Cutout has been deprecated. Please use CoarseDropout\n",
      "  warnings.warn(\n"
     ]
    }
   ],
   "source": [
    "# AUGMENTATIONS\n",
    "\n",
    "train_augs = albu.Compose([\n",
    "    albu.RandomResizedCrop(height=384, width=384, p=1.0),\n",
    "    albu.HorizontalFlip(p=0.5),\n",
    "    albu.VerticalFlip(p=0.5),\n",
    "    albu.RandomBrightnessContrast(p=0.5),\n",
    "    albu.ShiftScaleRotate(p=0.5),\n",
    "    albu.Normalize(    \n",
    "        mean=[0.3, 0.3, 0.3],\n",
    "        std=[0.1, 0.1, 0.1],),\n",
    "    CoarseDropout(p=0.5),\n",
    "    Cutout(p=0.5),\n",
    "    ToTensorV2(),\n",
    "])\n",
    "\n",
    "valid_augs = albu.Compose([\n",
    "    albu.Resize(height=384, width=384, p=1.0),\n",
    "    albu.Normalize(\n",
    "        mean=[0.3, 0.3, 0.3],\n",
    "        std=[0.1, 0.1, 0.1],),\n",
    "    ToTensorV2(),\n",
    "])\n"
   ]
  },
  {
   "cell_type": "code",
   "execution_count": 14,
   "id": "d1001540",
   "metadata": {
    "execution": {
     "iopub.execute_input": "2021-12-18T04:28:51.597558Z",
     "iopub.status.busy": "2021-12-18T04:28:51.596861Z",
     "iopub.status.idle": "2021-12-18T04:28:51.613627Z",
     "shell.execute_reply": "2021-12-18T04:28:51.613186Z",
     "shell.execute_reply.started": "2021-12-17T03:39:28.415209Z"
    },
    "papermill": {
     "duration": 0.043946,
     "end_time": "2021-12-18T04:28:51.613737",
     "exception": false,
     "start_time": "2021-12-18T04:28:51.569791",
     "status": "completed"
    },
    "tags": []
   },
   "outputs": [],
   "source": [
    "# DATA SPLIT\n",
    "train, valid = train_test_split(\n",
    "    train_df,\n",
    "    test_size=0.1,\n",
    "    random_state=42,\n",
    "    stratify=train_df.ClassId.values    #target name\n",
    ")\n",
    "\n",
    "# reset index on both dataframes\n",
    "train = train.reset_index(drop=True)\n",
    "valid = valid.reset_index(drop=True)\n",
    "\n",
    "# targets in train,valid datasets\n",
    "train_targets = train.ClassId.values    #target name\n",
    "valid_targets = valid.ClassId.values"
   ]
  },
  {
   "cell_type": "code",
   "execution_count": 15,
   "id": "e11dc91d",
   "metadata": {
    "execution": {
     "iopub.execute_input": "2021-12-18T04:28:51.662770Z",
     "iopub.status.busy": "2021-12-18T04:28:51.662015Z",
     "iopub.status.idle": "2021-12-18T04:28:51.663969Z",
     "shell.execute_reply": "2021-12-18T04:28:51.664396Z",
     "shell.execute_reply.started": "2021-12-17T03:39:28.438248Z"
    },
    "papermill": {
     "duration": 0.028463,
     "end_time": "2021-12-18T04:28:51.664517",
     "exception": false,
     "start_time": "2021-12-18T04:28:51.636054",
     "status": "completed"
    },
    "tags": []
   },
   "outputs": [],
   "source": [
    "# DEFINE PYTORCH CUSTOM DATASET\n",
    "train_dataset = PlantDataset(\n",
    "    df = train,\n",
    "    imfolder = BASE_DIR,\n",
    "    #imfolder = TRAIN_IMAGES_DIR,\n",
    "    train = True,\n",
    "    transforms = train_augs\n",
    ")\n",
    "\n",
    "valid_dataset = PlantDataset(\n",
    "    df = valid,\n",
    "    imfolder = BASE_DIR,\n",
    "    #imfolder = TRAIN_IMAGES_DIR,\n",
    "    train=True,\n",
    "    transforms = valid_augs\n",
    ")"
   ]
  },
  {
   "cell_type": "code",
   "execution_count": 16,
   "id": "9567517e",
   "metadata": {
    "execution": {
     "iopub.execute_input": "2021-12-18T04:28:51.713309Z",
     "iopub.status.busy": "2021-12-18T04:28:51.712555Z",
     "iopub.status.idle": "2021-12-18T04:28:51.714966Z",
     "shell.execute_reply": "2021-12-18T04:28:51.714521Z",
     "shell.execute_reply.started": "2021-12-17T03:39:28.445651Z"
    },
    "papermill": {
     "duration": 0.028584,
     "end_time": "2021-12-18T04:28:51.715066",
     "exception": false,
     "start_time": "2021-12-18T04:28:51.686482",
     "status": "completed"
    },
    "tags": []
   },
   "outputs": [],
   "source": [
    "def plot_image(img_dict):\n",
    "    image_tensor = img_dict[0]\n",
    "    target = img_dict[1]\n",
    "    image = image_tensor.permute(1, 2, 0)\n",
    "    image2=image.numpy()\n",
    "    if type(image2)==np.ndarray:\n",
    "        plt.imshow(image2)"
   ]
  },
  {
   "cell_type": "code",
   "execution_count": 17,
   "id": "192bfd72",
   "metadata": {
    "execution": {
     "iopub.execute_input": "2021-12-18T04:28:51.767297Z",
     "iopub.status.busy": "2021-12-18T04:28:51.766745Z",
     "iopub.status.idle": "2021-12-18T04:28:51.867571Z",
     "shell.execute_reply": "2021-12-18T04:28:51.868147Z"
    },
    "papermill": {
     "duration": 0.129319,
     "end_time": "2021-12-18T04:28:51.868329",
     "exception": false,
     "start_time": "2021-12-18T04:28:51.739010",
     "status": "completed"
    },
    "tags": []
   },
   "outputs": [
    {
     "name": "stdout",
     "output_type": "stream",
     "text": [
      "./gtsrb-german-traffic-sign/Test/01577.png\n",
      "<class 'numpy.ndarray'>\n"
     ]
    },
    {
     "data": {
      "text/plain": [
       "(tensor([[[ 7.0000,  7.0000,  7.0000,  ...,  1.0392,  1.3137,  1.5490],\n",
       "          [ 7.0000,  7.0000,  7.0000,  ...,  1.1569,  1.4314,  1.6667],\n",
       "          [ 7.0000,  7.0000,  7.0000,  ...,  1.2745,  1.5490,  1.8235],\n",
       "          ...,\n",
       "          [ 0.8824,  0.8039,  0.7647,  ..., -0.7647, -0.7647, -0.7647],\n",
       "          [ 0.9216,  0.8431,  0.7647,  ..., -0.7647, -0.8039, -0.8039],\n",
       "          [ 0.9608,  0.8824,  0.8039,  ..., -0.8039, -0.8039, -0.8039]],\n",
       " \n",
       "         [[ 7.0000,  7.0000,  6.9608,  ...,  1.4706,  1.7451,  2.0196],\n",
       "          [ 7.0000,  7.0000,  7.0000,  ...,  1.5882,  1.8627,  2.0980],\n",
       "          [ 7.0000,  7.0000,  6.9608,  ...,  1.7059,  1.9804,  2.2549],\n",
       "          ...,\n",
       "          [ 0.8039,  0.8431,  0.8431,  ..., -0.4902, -0.4902, -0.4902],\n",
       "          [ 0.8039,  0.8431,  0.8431,  ..., -0.4902, -0.4902, -0.4902],\n",
       "          [ 0.8039,  0.8039,  0.8431,  ..., -0.4902, -0.4902, -0.4902]],\n",
       " \n",
       "         [[ 7.0000,  7.0000,  7.0000,  ...,  2.7255,  3.0392,  3.3922],\n",
       "          [ 7.0000,  7.0000,  7.0000,  ...,  2.8039,  3.1176,  3.4706],\n",
       "          [ 7.0000,  7.0000,  7.0000,  ...,  2.8824,  3.1961,  3.5490],\n",
       "          ...,\n",
       "          [ 0.5686,  0.6471,  0.6863,  ..., -0.4118, -0.3725, -0.3725],\n",
       "          [ 0.6863,  0.7255,  0.7647,  ..., -0.4118, -0.4118, -0.3725],\n",
       "          [ 0.7647,  0.8039,  0.8431,  ..., -0.4118, -0.4118, -0.3725]]]),\n",
       " 28)"
      ]
     },
     "execution_count": 17,
     "metadata": {},
     "output_type": "execute_result"
    }
   ],
   "source": [
    "train_dataset[6]"
   ]
  },
  {
   "cell_type": "code",
   "execution_count": 18,
   "id": "e951a6df",
   "metadata": {
    "execution": {
     "iopub.execute_input": "2021-12-18T04:28:51.919091Z",
     "iopub.status.busy": "2021-12-18T04:28:51.918343Z",
     "iopub.status.idle": "2021-12-18T04:28:52.151546Z",
     "shell.execute_reply": "2021-12-18T04:28:52.151960Z",
     "shell.execute_reply.started": "2021-12-17T03:39:28.481533Z"
    },
    "papermill": {
     "duration": 0.260128,
     "end_time": "2021-12-18T04:28:52.152099",
     "exception": false,
     "start_time": "2021-12-18T04:28:51.891971",
     "status": "completed"
    },
    "tags": []
   },
   "outputs": [
    {
     "name": "stderr",
     "output_type": "stream",
     "text": [
      "Clipping input data to the valid range for imshow with RGB data ([0..1] for floats or [0..255] for integers).\n"
     ]
    },
    {
     "name": "stdout",
     "output_type": "stream",
     "text": [
      "./gtsrb-german-traffic-sign/Test/01577.png\n",
      "<class 'numpy.ndarray'>\n"
     ]
    },
    {
     "data": {
      "image/png": "[encoded data removed]",
      "text/plain": [
       "<Figure size 640x480 with 1 Axes>"
      ]
     },
     "metadata": {},
     "output_type": "display_data"
    }
   ],
   "source": [
    "plot_image(train_dataset[6])"
   ]
  },
  {
   "cell_type": "code",
   "execution_count": 19,
   "id": "00244534",
   "metadata": {
    "execution": {
     "iopub.execute_input": "2021-12-18T04:28:52.205192Z",
     "iopub.status.busy": "2021-12-18T04:28:52.204686Z",
     "iopub.status.idle": "2021-12-18T04:28:52.425300Z",
     "shell.execute_reply": "2021-12-18T04:28:52.424827Z",
     "shell.execute_reply.started": "2021-12-17T03:39:28.531754Z"
    },
    "papermill": {
     "duration": 0.248708,
     "end_time": "2021-12-18T04:28:52.425426",
     "exception": false,
     "start_time": "2021-12-18T04:28:52.176718",
     "status": "completed"
    },
    "tags": []
   },
   "outputs": [
    {
     "name": "stderr",
     "output_type": "stream",
     "text": [
      "Clipping input data to the valid range for imshow with RGB data ([0..1] for floats or [0..255] for integers).\n"
     ]
    },
    {
     "name": "stdout",
     "output_type": "stream",
     "text": [
      "./gtsrb-german-traffic-sign/Test/03885.png\n",
      "<class 'numpy.ndarray'>\n"
     ]
    },
    {
     "data": {
      "image/png": "[encoded data removed]",
      "text/plain": [
       "<Figure size 640x480 with 1 Axes>"
      ]
     },
     "metadata": {},
     "output_type": "display_data"
    }
   ],
   "source": [
    "plot_image(train_dataset[10])"
   ]
  },
  {
   "cell_type": "code",
   "execution_count": 20,
   "id": "65cafe0d",
   "metadata": {
    "execution": {
     "iopub.execute_input": "2021-12-18T04:28:52.480451Z",
     "iopub.status.busy": "2021-12-18T04:28:52.479924Z",
     "iopub.status.idle": "2021-12-18T04:28:52.702197Z",
     "shell.execute_reply": "2021-12-18T04:28:52.701793Z",
     "shell.execute_reply.started": "2021-12-17T03:39:28.533824Z"
    },
    "papermill": {
     "duration": 0.251338,
     "end_time": "2021-12-18T04:28:52.702344",
     "exception": false,
     "start_time": "2021-12-18T04:28:52.451006",
     "status": "completed"
    },
    "tags": []
   },
   "outputs": [
    {
     "name": "stdout",
     "output_type": "stream",
     "text": [
      "./gtsrb-german-traffic-sign/Test/06329.png\n",
      "<class 'numpy.ndarray'>\n"
     ]
    },
    {
     "name": "stderr",
     "output_type": "stream",
     "text": [
      "Clipping input data to the valid range for imshow with RGB data ([0..1] for floats or [0..255] for integers).\n"
     ]
    },
    {
     "data": {
      "image/png": "[encoded data removed]",
      "text/plain": [
       "<Figure size 640x480 with 1 Axes>"
      ]
     },
     "metadata": {},
     "output_type": "display_data"
    }
   ],
   "source": [
    "plot_image(train_dataset[13])"
   ]
  },
  {
   "cell_type": "code",
   "execution_count": 21,
   "id": "fde5002f",
   "metadata": {
    "execution": {
     "iopub.execute_input": "2021-12-18T04:28:52.759181Z",
     "iopub.status.busy": "2021-12-18T04:28:52.758636Z",
     "iopub.status.idle": "2021-12-18T04:28:52.763579Z",
     "shell.execute_reply": "2021-12-18T04:28:52.764158Z",
     "shell.execute_reply.started": "2021-12-17T03:39:28.53597Z"
    },
    "papermill": {
     "duration": 0.035669,
     "end_time": "2021-12-18T04:28:52.764336",
     "exception": false,
     "start_time": "2021-12-18T04:28:52.728667",
     "status": "completed"
    },
    "tags": []
   },
   "outputs": [],
   "source": [
    "# MAKE PYTORCH DATALOADER\n",
    "train_loader = DataLoader(\n",
    "    train_dataset,\n",
    "    batch_size = 4,\n",
    "    num_workers = 4,\n",
    "    shuffle = True\n",
    ")\n",
    "\n",
    "valid_loader = DataLoader(\n",
    "    valid_dataset,\n",
    "    batch_size = 4,\n",
    "    num_workers = 4,\n",
    "    shuffle = False\n",
    ")"
   ]
  },
  {
   "cell_type": "code",
   "execution_count": 22,
   "id": "ba71ff0f",
   "metadata": {
    "execution": {
     "iopub.execute_input": "2021-12-18T04:28:52.830489Z",
     "iopub.status.busy": "2021-12-18T04:28:52.825915Z",
     "iopub.status.idle": "2021-12-18T04:28:52.832507Z",
     "shell.execute_reply": "2021-12-18T04:28:52.832870Z",
     "shell.execute_reply.started": "2021-12-17T03:39:28.538759Z"
    },
    "papermill": {
     "duration": 0.041111,
     "end_time": "2021-12-18T04:28:52.832991",
     "exception": false,
     "start_time": "2021-12-18T04:28:52.791880",
     "status": "completed"
    },
    "tags": []
   },
   "outputs": [],
   "source": [
    "# TRAIN\n",
    "def train_model(datasets, dataloaders, model, criterion, optimizer, scheduler, num_epochs, device):\n",
    "    since = time.time()\n",
    "    \n",
    "    best_model_wts = copy.deepcopy(model.state_dict())\n",
    "    best_acc = 0.0\n",
    "    \n",
    "    for epoch in range(num_epochs):\n",
    "        print('Epoch {}/{}'.format(epoch, num_epochs-1))\n",
    "        print('-' * 10)\n",
    "        \n",
    "        for phase in ['train', 'valid']:\n",
    "            if phase == 'train':\n",
    "                model.train()\n",
    "            else:\n",
    "                model.eval()\n",
    "                \n",
    "            running_loss = 0.0\n",
    "            running_corrects = 0.0\n",
    "            \n",
    "            for inputs, labels in dataloaders[phase]:\n",
    "                inputs = inputs.to(device)\n",
    "                labels = labels.to(device)\n",
    "               \n",
    "                # Zero out the grads\n",
    "                optimizer.zero_grad()\n",
    "                \n",
    "                # Forward\n",
    "                # Track history in train mode\n",
    "                with torch.set_grad_enabled(phase == 'train'):\n",
    "                    model = model.to(device)\n",
    "                    outputs = model(inputs)\n",
    "                    _, preds = torch.max(outputs, 1) \n",
    "                    loss = criterion(outputs, labels)\n",
    "                    \n",
    "                    if phase == 'train':\n",
    "                        loss.backward()\n",
    "                        optimizer.step()\n",
    "                \n",
    "                # Statistics\n",
    "                running_loss += loss.item()*inputs.size(0)\n",
    "                running_corrects += torch.sum(preds == labels.data)\n",
    "            \n",
    "            if phase == 'train':\n",
    "                scheduler.step()\n",
    "                \n",
    "            epoch_loss = running_loss / len(datasets[phase])\n",
    "            epoch_acc = running_corrects.double() / len(datasets[phase])\n",
    "            \n",
    "            print('{} Loss: {:.4f} Acc: {:.4f}'.format(\n",
    "                phase, epoch_loss, epoch_acc))\n",
    "            \n",
    "            if phase == 'valid' and epoch_acc > best_acc:\n",
    "                best_acc = epoch_acc\n",
    "                best_model_wts = copy.deepcopy(model.state_dict())\n",
    "        \n",
    "        print()\n",
    "    \n",
    "    time_elapsed = time.time() - since\n",
    "    print('Training complete in {:.0f}m {:.0f}s'.format(time_elapsed // 60, time_elapsed % 60))\n",
    "    print('Best val Acc: {:.4f}'.format(best_acc))\n",
    "    \n",
    "    model.load_state_dict(best_model_wts)\n",
    "    \n",
    "    return model"
   ]
  },
  {
   "cell_type": "code",
   "execution_count": 24,
   "id": "4f8660bc",
   "metadata": {
    "execution": {
     "iopub.execute_input": "2021-12-18T04:28:52.898303Z",
     "iopub.status.busy": "2021-12-18T04:28:52.897443Z",
     "iopub.status.idle": "2021-12-18T04:29:05.644965Z",
     "shell.execute_reply": "2021-12-18T04:29:05.646033Z",
     "shell.execute_reply.started": "2021-12-17T03:39:28.540519Z"
    },
    "papermill": {
     "duration": 12.784358,
     "end_time": "2021-12-18T04:29:05.646284",
     "exception": false,
     "start_time": "2021-12-18T04:28:52.861926",
     "status": "completed"
    },
    "tags": []
   },
   "outputs": [
    {
     "name": "stdout",
     "output_type": "stream",
     "text": [
      "cpu\n"
     ]
    },
    {
     "ename": "RuntimeError",
     "evalue": "unexpected EOF, expected 5049651 more bytes. The file might be corrupted.",
     "output_type": "error",
     "traceback": [
      "\u001b[1;31m---------------------------------------------------------------------------\u001b[0m",
      "\u001b[1;31mRuntimeError\u001b[0m                              Traceback (most recent call last)",
      "Cell \u001b[1;32mIn[24], line 12\u001b[0m\n\u001b[0;32m      8\u001b[0m dataloaders \u001b[38;5;241m=\u001b[39m {\u001b[38;5;124m'\u001b[39m\u001b[38;5;124mtrain\u001b[39m\u001b[38;5;124m'\u001b[39m: train_loader,\n\u001b[0;32m      9\u001b[0m                \u001b[38;5;124m'\u001b[39m\u001b[38;5;124mvalid\u001b[39m\u001b[38;5;124m'\u001b[39m: valid_loader}\n\u001b[0;32m     11\u001b[0m \u001b[38;5;66;03m# LOAD PRETRAINED ViT MODEL\u001b[39;00m\n\u001b[1;32m---> 12\u001b[0m model \u001b[38;5;241m=\u001b[39m \u001b[43mVisionTransformer\u001b[49m\u001b[38;5;241;43m.\u001b[39;49m\u001b[43mfrom_pretrained\u001b[49m\u001b[43m(\u001b[49m\u001b[38;5;124;43m'\u001b[39;49m\u001b[38;5;124;43mViT-B_16\u001b[39;49m\u001b[38;5;124;43m'\u001b[39;49m\u001b[43m,\u001b[49m\u001b[43m \u001b[49m\u001b[43mnum_classes\u001b[49m\u001b[38;5;241;43m=\u001b[39;49m\u001b[38;5;241;43m43\u001b[39;49m\u001b[43m)\u001b[49m      \u001b[38;5;66;03m###      \u001b[39;00m\n\u001b[0;32m     14\u001b[0m \u001b[38;5;66;03m# OPTIMIZER\u001b[39;00m\n\u001b[0;32m     15\u001b[0m optimizer \u001b[38;5;241m=\u001b[39m torch\u001b[38;5;241m.\u001b[39moptim\u001b[38;5;241m.\u001b[39mAdamW(model\u001b[38;5;241m.\u001b[39mparameters(), lr\u001b[38;5;241m=\u001b[39m\u001b[38;5;241m1e-4\u001b[39m, weight_decay\u001b[38;5;241m=\u001b[39m\u001b[38;5;241m0.001\u001b[39m)\n",
      "File \u001b[1;32m~\\AppData\\Local\\Packages\\PythonSoftwareFoundation.Python.3.10_qbz5n2kfra8p0\\LocalCache\\local-packages\\Python310\\site-packages\\vision_transformer_pytorch\\model.py:328\u001b[0m, in \u001b[0;36mVisionTransformer.from_pretrained\u001b[1;34m(cls, model_name, weights_path, in_channels, num_classes, **override_params)\u001b[0m\n\u001b[0;32m    304\u001b[0m \u001b[38;5;250m\u001b[39m\u001b[38;5;124;03m\"\"\"create an vision transformer model according to name.\u001b[39;00m\n\u001b[0;32m    305\u001b[0m \u001b[38;5;124;03mArgs:\u001b[39;00m\n\u001b[0;32m    306\u001b[0m \u001b[38;5;124;03m    model_name (str): Name for vision transformer.\u001b[39;00m\n\u001b[1;32m   (...)\u001b[0m\n\u001b[0;32m    323\u001b[0m \u001b[38;5;124;03m    A pretrained vision transformer model.\u001b[39;00m\n\u001b[0;32m    324\u001b[0m \u001b[38;5;124;03m\"\"\"\u001b[39;00m\n\u001b[0;32m    325\u001b[0m model \u001b[38;5;241m=\u001b[39m \u001b[38;5;28mcls\u001b[39m\u001b[38;5;241m.\u001b[39mfrom_name(model_name,\n\u001b[0;32m    326\u001b[0m                       num_classes\u001b[38;5;241m=\u001b[39mnum_classes,\n\u001b[0;32m    327\u001b[0m                       \u001b[38;5;241m*\u001b[39m\u001b[38;5;241m*\u001b[39moverride_params)\n\u001b[1;32m--> 328\u001b[0m \u001b[43mload_pretrained_weights\u001b[49m\u001b[43m(\u001b[49m\u001b[43mmodel\u001b[49m\u001b[43m,\u001b[49m\n\u001b[0;32m    329\u001b[0m \u001b[43m                        \u001b[49m\u001b[43mmodel_name\u001b[49m\u001b[43m,\u001b[49m\n\u001b[0;32m    330\u001b[0m \u001b[43m                        \u001b[49m\u001b[43mweights_path\u001b[49m\u001b[38;5;241;43m=\u001b[39;49m\u001b[43mweights_path\u001b[49m\u001b[43m,\u001b[49m\n\u001b[0;32m    331\u001b[0m \u001b[43m                        \u001b[49m\u001b[43mload_fc\u001b[49m\u001b[38;5;241;43m=\u001b[39;49m\u001b[43m(\u001b[49m\u001b[43mnum_classes\u001b[49m\u001b[43m \u001b[49m\u001b[38;5;241;43m==\u001b[39;49m\u001b[43m \u001b[49m\u001b[38;5;241;43m1000\u001b[39;49m\u001b[43m)\u001b[49m\u001b[43m)\u001b[49m\n\u001b[0;32m    332\u001b[0m model\u001b[38;5;241m.\u001b[39m_change_in_channels(in_channels)\n\u001b[0;32m    333\u001b[0m \u001b[38;5;28;01mreturn\u001b[39;00m model\n",
      "File \u001b[1;32m~\\AppData\\Local\\Packages\\PythonSoftwareFoundation.Python.3.10_qbz5n2kfra8p0\\LocalCache\\local-packages\\Python310\\site-packages\\vision_transformer_pytorch\\utils.py:138\u001b[0m, in \u001b[0;36mload_pretrained_weights\u001b[1;34m(model, model_name, weights_path, load_fc, advprop)\u001b[0m\n\u001b[0;32m    136\u001b[0m     state_dict \u001b[38;5;241m=\u001b[39m torch\u001b[38;5;241m.\u001b[39mload(weights_path)\n\u001b[0;32m    137\u001b[0m \u001b[38;5;28;01melse\u001b[39;00m:\n\u001b[1;32m--> 138\u001b[0m     state_dict \u001b[38;5;241m=\u001b[39m \u001b[43mmodel_zoo\u001b[49m\u001b[38;5;241;43m.\u001b[39;49m\u001b[43mload_url\u001b[49m\u001b[43m(\u001b[49m\u001b[43murl_map\u001b[49m\u001b[43m[\u001b[49m\u001b[43mmodel_name\u001b[49m\u001b[43m]\u001b[49m\u001b[43m)\u001b[49m\n\u001b[0;32m    140\u001b[0m \u001b[38;5;28;01mif\u001b[39;00m load_fc:\n\u001b[0;32m    141\u001b[0m     ret \u001b[38;5;241m=\u001b[39m model\u001b[38;5;241m.\u001b[39mload_state_dict(state_dict, strict\u001b[38;5;241m=\u001b[39m\u001b[38;5;28;01mFalse\u001b[39;00m)\n",
      "File \u001b[1;32m~\\AppData\\Local\\Packages\\PythonSoftwareFoundation.Python.3.10_qbz5n2kfra8p0\\LocalCache\\local-packages\\Python310\\site-packages\\torch\\hub.py:770\u001b[0m, in \u001b[0;36mload_state_dict_from_url\u001b[1;34m(url, model_dir, map_location, progress, check_hash, file_name, weights_only)\u001b[0m\n\u001b[0;32m    768\u001b[0m \u001b[38;5;28;01mif\u001b[39;00m _is_legacy_zip_format(cached_file):\n\u001b[0;32m    769\u001b[0m     \u001b[38;5;28;01mreturn\u001b[39;00m _legacy_zip_load(cached_file, model_dir, map_location, weights_only)\n\u001b[1;32m--> 770\u001b[0m \u001b[38;5;28;01mreturn\u001b[39;00m \u001b[43mtorch\u001b[49m\u001b[38;5;241;43m.\u001b[39;49m\u001b[43mload\u001b[49m\u001b[43m(\u001b[49m\u001b[43mcached_file\u001b[49m\u001b[43m,\u001b[49m\u001b[43m \u001b[49m\u001b[43mmap_location\u001b[49m\u001b[38;5;241;43m=\u001b[39;49m\u001b[43mmap_location\u001b[49m\u001b[43m,\u001b[49m\u001b[43m \u001b[49m\u001b[43mweights_only\u001b[49m\u001b[38;5;241;43m=\u001b[39;49m\u001b[43mweights_only\u001b[49m\u001b[43m)\u001b[49m\n",
      "File \u001b[1;32m~\\AppData\\Local\\Packages\\PythonSoftwareFoundation.Python.3.10_qbz5n2kfra8p0\\LocalCache\\local-packages\\Python310\\site-packages\\torch\\serialization.py:1028\u001b[0m, in \u001b[0;36mload\u001b[1;34m(f, map_location, pickle_module, weights_only, mmap, **pickle_load_args)\u001b[0m\n\u001b[0;32m   1026\u001b[0m     \u001b[38;5;28;01mexcept\u001b[39;00m \u001b[38;5;167;01mRuntimeError\u001b[39;00m \u001b[38;5;28;01mas\u001b[39;00m e:\n\u001b[0;32m   1027\u001b[0m         \u001b[38;5;28;01mraise\u001b[39;00m pickle\u001b[38;5;241m.\u001b[39mUnpicklingError(UNSAFE_MESSAGE \u001b[38;5;241m+\u001b[39m \u001b[38;5;28mstr\u001b[39m(e)) \u001b[38;5;28;01mfrom\u001b[39;00m \u001b[38;5;28mNone\u001b[39m\n\u001b[1;32m-> 1028\u001b[0m \u001b[38;5;28;01mreturn\u001b[39;00m _legacy_load(opened_file, map_location, pickle_module, \u001b[38;5;241m*\u001b[39m\u001b[38;5;241m*\u001b[39mpickle_load_args)\n",
      "File \u001b[1;32m~\\AppData\\Local\\Packages\\PythonSoftwareFoundation.Python.3.10_qbz5n2kfra8p0\\LocalCache\\local-packages\\Python310\\site-packages\\torch\\serialization.py:1264\u001b[0m, in \u001b[0;36m_legacy_load\u001b[1;34m(f, map_location, pickle_module, **pickle_load_args)\u001b[0m\n\u001b[0;32m   1262\u001b[0m \u001b[38;5;28;01massert\u001b[39;00m key \u001b[38;5;129;01min\u001b[39;00m deserialized_objects\n\u001b[0;32m   1263\u001b[0m typed_storage \u001b[38;5;241m=\u001b[39m deserialized_objects[key]\n\u001b[1;32m-> 1264\u001b[0m \u001b[43mtyped_storage\u001b[49m\u001b[38;5;241;43m.\u001b[39;49m\u001b[43m_untyped_storage\u001b[49m\u001b[38;5;241;43m.\u001b[39;49m\u001b[43m_set_from_file\u001b[49m\u001b[43m(\u001b[49m\n\u001b[0;32m   1265\u001b[0m \u001b[43m    \u001b[49m\u001b[43mf\u001b[49m\u001b[43m,\u001b[49m\u001b[43m \u001b[49m\u001b[43moffset\u001b[49m\u001b[43m,\u001b[49m\u001b[43m \u001b[49m\u001b[43mf_should_read_directly\u001b[49m\u001b[43m,\u001b[49m\n\u001b[0;32m   1266\u001b[0m \u001b[43m    \u001b[49m\u001b[43mtorch\u001b[49m\u001b[38;5;241;43m.\u001b[39;49m\u001b[43m_utils\u001b[49m\u001b[38;5;241;43m.\u001b[39;49m\u001b[43m_element_size\u001b[49m\u001b[43m(\u001b[49m\u001b[43mtyped_storage\u001b[49m\u001b[38;5;241;43m.\u001b[39;49m\u001b[43mdtype\u001b[49m\u001b[43m)\u001b[49m\u001b[43m)\u001b[49m\n\u001b[0;32m   1267\u001b[0m \u001b[38;5;28;01mif\u001b[39;00m offset \u001b[38;5;129;01mis\u001b[39;00m \u001b[38;5;129;01mnot\u001b[39;00m \u001b[38;5;28;01mNone\u001b[39;00m:\n\u001b[0;32m   1268\u001b[0m     offset \u001b[38;5;241m=\u001b[39m f\u001b[38;5;241m.\u001b[39mtell()\n",
      "\u001b[1;31mRuntimeError\u001b[0m: unexpected EOF, expected 5049651 more bytes. The file might be corrupted."
     ]
    }
   ],
   "source": [
    "from vision_transformer_pytorch import VisionTransformer\n",
    "device = torch.device(\"cuda\" if torch.cuda.is_available() else \"cpu\")\n",
    "print(device)\n",
    "\n",
    "datasets = {'train': train_dataset,\n",
    "            'valid': valid_dataset}\n",
    "\n",
    "dataloaders = {'train': train_loader,\n",
    "               'valid': valid_loader}\n",
    "\n",
    "# LOAD PRETRAINED ViT MODEL\n",
    "model = VisionTransformer.from_pretrained('ViT-B_16', num_classes=43)      ###      \n",
    "\n",
    "# OPTIMIZER\n",
    "optimizer = torch.optim.AdamW(model.parameters(), lr=1e-4, weight_decay=0.001)\n",
    "# optimizer = torch.optim.Adam(model.parameters(), lr=1e-4, weight_decay=0.001)\n",
    "# optimizer = AdamP(model.parameters(), lr=1e-4, weight_decay=0.001)\n",
    "\n",
    "# LEARNING RATE SCHEDULER\n",
    "scheduler = torch.optim.lr_scheduler.StepLR(optimizer, step_size=2, gamma=0.1)\n",
    "\n",
    "criterion = nn.CrossEntropyLoss()\n",
    "num_epochs = 4"
   ]
  },
  {
   "cell_type": "code",
   "execution_count": null,
   "id": "cbfb660f",
   "metadata": {
    "_kg_hide-output": true,
    "execution": {
     "iopub.execute_input": "2021-12-18T04:29:05.730121Z",
     "iopub.status.busy": "2021-12-18T04:29:05.729350Z",
     "iopub.status.idle": "2021-12-18T05:33:37.666562Z",
     "shell.execute_reply": "2021-12-18T05:33:37.667123Z",
     "shell.execute_reply.started": "2021-12-17T03:39:28.542292Z"
    },
    "papermill": {
     "duration": 3871.973464,
     "end_time": "2021-12-18T05:33:37.667351",
     "exception": false,
     "start_time": "2021-12-18T04:29:05.693887",
     "status": "completed"
    },
    "tags": []
   },
   "outputs": [],
   "source": [
    "# MODEL TRAIN\n",
    "trained_model = train_model(datasets, dataloaders, model, \n",
    "                            criterion, optimizer, scheduler, \n",
    "                            num_epochs, device)"
   ]
  },
  {
   "cell_type": "code",
   "execution_count": null,
   "id": "f0958d2a",
   "metadata": {
    "execution": {
     "iopub.execute_input": "2021-12-18T05:35:26.754394Z",
     "iopub.status.busy": "2021-12-18T05:35:26.753497Z",
     "iopub.status.idle": "2021-12-18T05:35:27.324840Z",
     "shell.execute_reply": "2021-12-18T05:35:27.325942Z",
     "shell.execute_reply.started": "2021-12-17T03:39:28.544464Z"
    },
    "papermill": {
     "duration": 54.835517,
     "end_time": "2021-12-18T05:35:27.326150",
     "exception": false,
     "start_time": "2021-12-18T05:34:32.490633",
     "status": "completed"
    },
    "tags": []
   },
   "outputs": [],
   "source": [
    "# Save the mode after training\n",
    "torch.save(model.state_dict(), 'vit_b-16_2epoch.pt')"
   ]
  },
  {
   "cell_type": "code",
   "execution_count": null,
   "id": "28b11ccc",
   "metadata": {
    "papermill": {
     "duration": 54.634746,
     "end_time": "2021-12-18T05:37:16.343019",
     "exception": false,
     "start_time": "2021-12-18T05:36:21.708273",
     "status": "completed"
    },
    "tags": []
   },
   "outputs": [],
   "source": []
  },
  {
   "cell_type": "code",
   "execution_count": null,
   "id": "4ada1976",
   "metadata": {},
   "outputs": [],
   "source": []
  },
  {
   "cell_type": "code",
   "execution_count": null,
   "id": "8183c685",
   "metadata": {},
   "outputs": [],
   "source": []
  },
  {
   "cell_type": "code",
   "execution_count": null,
   "id": "7b865d06",
   "metadata": {},
   "outputs": [],
   "source": []
  }
 ],
 "metadata": {
  "kernelspec": {
   "display_name": "Python 3 (ipykernel)",
   "language": "python",
   "name": "python3"
  },
  "language_info": {
   "codemirror_mode": {
    "name": "ipython",
    "version": 3
   },
   "file_extension": ".py",
   "mimetype": "text/x-python",
   "name": "python",
   "nbconvert_exporter": "python",
   "pygments_lexer": "ipython3",
   "version": "3.10.11"
  },
  "papermill": {
   "default_parameters": {},
   "duration": 4183.580274,
   "end_time": "2021-12-18T05:38:12.171660",
   "environment_variables": {},
   "exception": null,
   "input_path": "__notebook__.ipynb",
   "output_path": "__notebook__.ipynb",
   "parameters": {},
   "start_time": "2021-12-18T04:28:28.591386",
   "version": "2.3.3"
  },
  "widgets": {
   "application/vnd.jupyter.widget-state+json": {
    "state": {
     "1ba55c6a28244b5cbc764769cd084b7e": {
      "model_module": "@jupyter-widgets/controls",
      "model_module_version": "1.5.0",
      "model_name": "HTMLModel",
      "state": {
       "_dom_classes": [],
       "_model_module": "@jupyter-widgets/controls",
       "_model_module_version": "1.5.0",
       "_model_name": "HTMLModel",
       "_view_count": null,
       "_view_module": "@jupyter-widgets/controls",
       "_view_module_version": "1.5.0",
       "_view_name": "HTMLView",
       "description": "",
       "description_tooltip": null,
       "layout": "IPY_MODEL_fc113bc712d748189a51e024aa87ccab",
       "placeholder": "​",
       "style": "IPY_MODEL_b07e55848ec342748b1867904f370a78",
       "value": " 331M/331M [00:10&lt;00:00, 31.6MB/s]"
      }
     },
     "214a58f96bc84e5dabbd640039efb3b8": {
      "model_module": "@jupyter-widgets/base",
      "model_module_version": "1.2.0",
      "model_name": "LayoutModel",
      "state": {
       "_model_module": "@jupyter-widgets/base",
       "_model_module_version": "1.2.0",
       "_model_name": "LayoutModel",
       "_view_count": null,
       "_view_module": "@jupyter-widgets/base",
       "_view_module_version": "1.2.0",
       "_view_name": "LayoutView",
       "align_content": null,
       "align_items": null,
       "align_self": null,
       "border": null,
       "bottom": null,
       "display": null,
       "flex": null,
       "flex_flow": null,
       "grid_area": null,
       "grid_auto_columns": null,
       "grid_auto_flow": null,
       "grid_auto_rows": null,
       "grid_column": null,
       "grid_gap": null,
       "grid_row": null,
       "grid_template_areas": null,
       "grid_template_columns": null,
       "grid_template_rows": null,
       "height": null,
       "justify_content": null,
       "justify_items": null,
       "left": null,
       "margin": null,
       "max_height": null,
       "max_width": null,
       "min_height": null,
       "min_width": null,
       "object_fit": null,
       "object_position": null,
       "order": null,
       "overflow": null,
       "overflow_x": null,
       "overflow_y": null,
       "padding": null,
       "right": null,
       "top": null,
       "visibility": null,
       "width": null
      }
     },
     "55a16e41aa0c49319cfe51ea68994c73": {
      "model_module": "@jupyter-widgets/base",
      "model_module_version": "1.2.0",
      "model_name": "LayoutModel",
      "state": {
       "_model_module": "@jupyter-widgets/base",
       "_model_module_version": "1.2.0",
       "_model_name": "LayoutModel",
       "_view_count": null,
       "_view_module": "@jupyter-widgets/base",
       "_view_module_version": "1.2.0",
       "_view_name": "LayoutView",
       "align_content": null,
       "align_items": null,
       "align_self": null,
       "border": null,
       "bottom": null,
       "display": null,
       "flex": null,
       "flex_flow": null,
       "grid_area": null,
       "grid_auto_columns": null,
       "grid_auto_flow": null,
       "grid_auto_rows": null,
       "grid_column": null,
       "grid_gap": null,
       "grid_row": null,
       "grid_template_areas": null,
       "grid_template_columns": null,
       "grid_template_rows": null,
       "height": null,
       "justify_content": null,
       "justify_items": null,
       "left": null,
       "margin": null,
       "max_height": null,
       "max_width": null,
       "min_height": null,
       "min_width": null,
       "object_fit": null,
       "object_position": null,
       "order": null,
       "overflow": null,
       "overflow_x": null,
       "overflow_y": null,
       "padding": null,
       "right": null,
       "top": null,
       "visibility": null,
       "width": null
      }
     },
     "8a3a4d8061d741b9811a7c05988ba696": {
      "model_module": "@jupyter-widgets/controls",
      "model_module_version": "1.5.0",
      "model_name": "ProgressStyleModel",
      "state": {
       "_model_module": "@jupyter-widgets/controls",
       "_model_module_version": "1.5.0",
       "_model_name": "ProgressStyleModel",
       "_view_count": null,
       "_view_module": "@jupyter-widgets/base",
       "_view_module_version": "1.2.0",
       "_view_name": "StyleView",
       "bar_color": null,
       "description_width": ""
      }
     },
     "95202d829cfd45a6b4480f42a8731870": {
      "model_module": "@jupyter-widgets/controls",
      "model_module_version": "1.5.0",
      "model_name": "DescriptionStyleModel",
      "state": {
       "_model_module": "@jupyter-widgets/controls",
       "_model_module_version": "1.5.0",
       "_model_name": "DescriptionStyleModel",
       "_view_count": null,
       "_view_module": "@jupyter-widgets/base",
       "_view_module_version": "1.2.0",
       "_view_name": "StyleView",
       "description_width": ""
      }
     },
     "9b4432f72cb5429bb61dcfc62734a90a": {
      "model_module": "@jupyter-widgets/controls",
      "model_module_version": "1.5.0",
      "model_name": "HBoxModel",
      "state": {
       "_dom_classes": [],
       "_model_module": "@jupyter-widgets/controls",
       "_model_module_version": "1.5.0",
       "_model_name": "HBoxModel",
       "_view_count": null,
       "_view_module": "@jupyter-widgets/controls",
       "_view_module_version": "1.5.0",
       "_view_name": "HBoxView",
       "box_style": "",
       "children": [
        "IPY_MODEL_bbeef8fba7f74bbfbcc6a98ff87919f6",
        "IPY_MODEL_e620b036b145476793414a94836d8034",
        "IPY_MODEL_1ba55c6a28244b5cbc764769cd084b7e"
       ],
       "layout": "IPY_MODEL_55a16e41aa0c49319cfe51ea68994c73"
      }
     },
     "b07e55848ec342748b1867904f370a78": {
      "model_module": "@jupyter-widgets/controls",
      "model_module_version": "1.5.0",
      "model_name": "DescriptionStyleModel",
      "state": {
       "_model_module": "@jupyter-widgets/controls",
       "_model_module_version": "1.5.0",
       "_model_name": "DescriptionStyleModel",
       "_view_count": null,
       "_view_module": "@jupyter-widgets/base",
       "_view_module_version": "1.2.0",
       "_view_name": "StyleView",
       "description_width": ""
      }
     },
     "bbeef8fba7f74bbfbcc6a98ff87919f6": {
      "model_module": "@jupyter-widgets/controls",
      "model_module_version": "1.5.0",
      "model_name": "HTMLModel",
      "state": {
       "_dom_classes": [],
       "_model_module": "@jupyter-widgets/controls",
       "_model_module_version": "1.5.0",
       "_model_name": "HTMLModel",
       "_view_count": null,
       "_view_module": "@jupyter-widgets/controls",
       "_view_module_version": "1.5.0",
       "_view_name": "HTMLView",
       "description": "",
       "description_tooltip": null,
       "layout": "IPY_MODEL_214a58f96bc84e5dabbd640039efb3b8",
       "placeholder": "​",
       "style": "IPY_MODEL_95202d829cfd45a6b4480f42a8731870",
       "value": "100%"
      }
     },
     "e620b036b145476793414a94836d8034": {
      "model_module": "@jupyter-widgets/controls",
      "model_module_version": "1.5.0",
      "model_name": "FloatProgressModel",
      "state": {
       "_dom_classes": [],
       "_model_module": "@jupyter-widgets/controls",
       "_model_module_version": "1.5.0",
       "_model_name": "FloatProgressModel",
       "_view_count": null,
       "_view_module": "@jupyter-widgets/controls",
       "_view_module_version": "1.5.0",
       "_view_name": "ProgressView",
       "bar_style": "success",
       "description": "",
       "description_tooltip": null,
       "layout": "IPY_MODEL_f1d2fbd5dfb14af2b8c36347a917fddd",
       "max": 347471723,
       "min": 0,
       "orientation": "horizontal",
       "style": "IPY_MODEL_8a3a4d8061d741b9811a7c05988ba696",
       "value": 347471723
      }
     },
     "f1d2fbd5dfb14af2b8c36347a917fddd": {
      "model_module": "@jupyter-widgets/base",
      "model_module_version": "1.2.0",
      "model_name": "LayoutModel",
      "state": {
       "_model_module": "@jupyter-widgets/base",
       "_model_module_version": "1.2.0",
       "_model_name": "LayoutModel",
       "_view_count": null,
       "_view_module": "@jupyter-widgets/base",
       "_view_module_version": "1.2.0",
       "_view_name": "LayoutView",
       "align_content": null,
       "align_items": null,
       "align_self": null,
       "border": null,
       "bottom": null,
       "display": null,
       "flex": null,
       "flex_flow": null,
       "grid_area": null,
       "grid_auto_columns": null,
       "grid_auto_flow": null,
       "grid_auto_rows": null,
       "grid_column": null,
       "grid_gap": null,
       "grid_row": null,
       "grid_template_areas": null,
       "grid_template_columns": null,
       "grid_template_rows": null,
       "height": null,
       "justify_content": null,
       "justify_items": null,
       "left": null,
       "margin": null,
       "max_height": null,
       "max_width": null,
       "min_height": null,
       "min_width": null,
       "object_fit": null,
       "object_position": null,
       "order": null,
       "overflow": null,
       "overflow_x": null,
       "overflow_y": null,
       "padding": null,
       "right": null,
       "top": null,
       "visibility": null,
       "width": null
      }
     },
     "fc113bc712d748189a51e024aa87ccab": {
      "model_module": "@jupyter-widgets/base",
      "model_module_version": "1.2.0",
      "model_name": "LayoutModel",
      "state": {
       "_model_module": "@jupyter-widgets/base",
       "_model_module_version": "1.2.0",
       "_model_name": "LayoutModel",
       "_view_count": null,
       "_view_module": "@jupyter-widgets/base",
       "_view_module_version": "1.2.0",
       "_view_name": "LayoutView",
       "align_content": null,
       "align_items": null,
       "align_self": null,
       "border": null,
       "bottom": null,
       "display": null,
       "flex": null,
       "flex_flow": null,
       "grid_area": null,
       "grid_auto_columns": null,
       "grid_auto_flow": null,
       "grid_auto_rows": null,
       "grid_column": null,
       "grid_gap": null,
       "grid_row": null,
       "grid_template_areas": null,
       "grid_template_columns": null,
       "grid_template_rows": null,
       "height": null,
       "justify_content": null,
       "justify_items": null,
       "left": null,
       "margin": null,
       "max_height": null,
       "max_width": null,
       "min_height": null,
       "min_width": null,
       "object_fit": null,
       "object_position": null,
       "order": null,
       "overflow": null,
       "overflow_x": null,
       "overflow_y": null,
       "padding": null,
       "right": null,
       "top": null,
       "visibility": null,
       "width": null
      }
     }
    },
    "version_major": 2,
    "version_minor": 0
   }
  }
 },
 "nbformat": 4,
 "nbformat_minor": 5
}
